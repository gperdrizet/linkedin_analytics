{
 "cells": [
  {
   "cell_type": "markdown",
   "id": "35570323",
   "metadata": {},
   "source": [
    "# Post impression regression\n",
    "\n",
    "## Notebooks set-up"
   ]
  },
  {
   "cell_type": "code",
   "execution_count": 8,
   "id": "f552fde0",
   "metadata": {},
   "outputs": [],
   "source": [
    "import matplotlib.pyplot as plt\n",
    "import pandas as pd\n",
    "import seaborn as sns\n",
    "\n",
    "from scipy import stats"
   ]
  },
  {
   "cell_type": "markdown",
   "id": "cf3dbbe2",
   "metadata": {},
   "source": [
    "## 1. Data loading"
   ]
  },
  {
   "cell_type": "code",
   "execution_count": 2,
   "id": "e473223c",
   "metadata": {},
   "outputs": [],
   "source": [
    "# Load the post dataset\n",
    "data_df = pd.read_csv('../data/posts.csv')\n",
    "\n",
    "# Inspect\n",
    "data_df.head()"
   ]
  },
  {
   "cell_type": "code",
   "execution_count": 3,
   "id": "5d02858d",
   "metadata": {},
   "outputs": [],
   "source": [
    "data_df.info()"
   ]
  },
  {
   "cell_type": "markdown",
   "id": "ef119495",
   "metadata": {},
   "source": [
    "## 2. EDA\n",
    "### 2.1. Feature distributions\n",
    "#### 2.1.1. Categorical features"
   ]
  },
  {
   "cell_type": "code",
   "execution_count": null,
   "id": "86e0ed9d",
   "metadata": {},
   "outputs": [],
   "source": [
    "categorical_features = ['external_link', 'media', 'post_day']\n",
    "\n",
    "fig, axs = plt.subplots(1, 3, figsize=(9, 3.5))\n",
    "\n",
    "fig.suptitle('Categorical Features Distribution')\n",
    "\n",
    "for i, categorical_feature in enumerate(categorical_features):\n",
    "\n",
    "    axs[i].bar(\n",
    "        data_df[categorical_feature].value_counts().index,\n",
    "        data_df[categorical_feature].value_counts().values,\n",
    "        color='black'\n",
    "    )\n",
    "\n",
    "    if categorical_feature != 'post_day':\n",
    "        axs[i].set_xticks([0, 1])\n",
    "        axs[i].set_xticklabels(['No', 'Yes'])\n",
    "\n",
    "    if categorical_feature == 'post_day':\n",
    "        axs[i].set_xticks(range(len(data_df[categorical_feature].value_counts())))\n",
    "        axs[i].set_xticklabels(data_df[categorical_feature].value_counts().index, rotation=45)\n",
    "\n",
    "    axs[i].set_title(categorical_feature)\n",
    "    axs[i].set_ylabel('Counts')\n",
    "\n",
    "fig.tight_layout()\n",
    "fig.show()"
   ]
  },
  {
   "cell_type": "markdown",
   "id": "ff6c8488",
   "metadata": {},
   "source": [
    "#### 2.1.2. Numerical features"
   ]
  },
  {
   "cell_type": "code",
   "execution_count": 5,
   "id": "ec7deac0",
   "metadata": {},
   "outputs": [],
   "source": [
    "numerical_features = ['impressions', 'word_count', 'n_tags']\n",
    "\n",
    "fig, axs = plt.subplots(1, 3, figsize=(9, 3))\n",
    "\n",
    "fig.suptitle('Numerical Features Distribution')\n",
    "\n",
    "for i, numerical_feature in enumerate(numerical_features):\n",
    "    axs[i].hist(data_df[numerical_feature], bins=30, color='black')\n",
    "    axs[i].set_title(numerical_feature)\n",
    "    axs[i].set_xlabel(numerical_feature)\n",
    "    axs[i].set_ylabel('Counts')\n",
    "\n",
    "fig.tight_layout()\n",
    "fig.show()"
   ]
  },
  {
   "cell_type": "markdown",
   "id": "2dfc72d1",
   "metadata": {},
   "source": [
    "### 2.2. Feature interactions\n",
    "\n",
    "#### 2.2.1. Categorical-categorical"
   ]
  },
  {
   "cell_type": "code",
   "execution_count": null,
   "id": "e273a5ba",
   "metadata": {},
   "outputs": [],
   "source": [
    "categorical_feature_pairs = [\n",
    "    ['external_link', 'media'],\n",
    "    ['external_link', 'post_day'],\n",
    "    ['media', 'post_day']\n",
    "]\n",
    "\n",
    "fig, axs = plt.subplots(1, 3, figsize=(12, 4))\n",
    "\n",
    "fig.suptitle('Categorical feature contingency tables')\n",
    "\n",
    "for i, feature_pair in enumerate(categorical_feature_pairs):\n",
    "\n",
    "    contingency_table = pd.crosstab(data_df[feature_pair[0]], data_df[feature_pair[1]])\n",
    "\n",
    "    if feature_pair[0] == 'post_day':\n",
    "        contingency_table = contingency_table[['Monday', 'Tuesday', 'Wednesday', 'Thursday', 'Friday', 'Saturday', 'Sunday']]\n",
    "\n",
    "    chisquared_result = stats.chi2_contingency(contingency_table)\n",
    "\n",
    "    axs[i].set_title(f'{feature_pair[0]} x {feature_pair[1]}\\n$Chi^2$ p={chisquared_result[1]:.4f}')\n",
    "    sns.heatmap(contingency_table, annot=True, fmt='d', cmap='Blues', ax=axs[i])\n",
    "\n",
    "fig.tight_layout()\n",
    "fig.show()"
   ]
  },
  {
   "cell_type": "markdown",
   "id": "b2d4cb47",
   "metadata": {},
   "source": [
    "#### 2.2.2. Numerical-categorical"
   ]
  },
  {
   "cell_type": "code",
   "execution_count": null,
   "id": "4a71b9dd",
   "metadata": {},
   "outputs": [],
   "source": []
  }
 ],
 "metadata": {
  "kernelspec": {
   "display_name": "Python 3",
   "language": "python",
   "name": "python3"
  },
  "language_info": {
   "codemirror_mode": {
    "name": "ipython",
    "version": 3
   },
   "file_extension": ".py",
   "mimetype": "text/x-python",
   "name": "python",
   "nbconvert_exporter": "python",
   "pygments_lexer": "ipython3",
   "version": "3.11.4"
  }
 },
 "nbformat": 4,
 "nbformat_minor": 5
}

{
 "cells": [
  {
   "cell_type": "markdown",
   "id": "35570323",
   "metadata": {},
   "source": [
    "# Post impression regression\n",
    "\n",
    "## Notebooks set-up"
   ]
  },
  {
   "cell_type": "code",
   "execution_count": null,
   "id": "f552fde0",
   "metadata": {},
   "outputs": [],
   "source": [
    "import matplotlib.pyplot as plt\n",
    "import pandas as pd\n",
    "import seaborn as sns\n",
    "\n",
    "from scipy import stats\n",
    "from sklearn.linear_model import LinearRegression\n",
    "from sklearn.metrics import root_mean_squared_error\n",
    "from sklearn.preprocessing import OrdinalEncoder, StandardScaler"
   ]
  },
  {
   "cell_type": "markdown",
   "id": "cf3dbbe2",
   "metadata": {},
   "source": [
    "## 1. Data loading"
   ]
  },
  {
   "cell_type": "code",
   "execution_count": null,
   "id": "e473223c",
   "metadata": {},
   "outputs": [],
   "source": [
    "# Load the post dataset\n",
    "data_df = pd.read_csv('../data/posts.csv')\n",
    "\n",
    "# Inspect\n",
    "data_df.head()"
   ]
  },
  {
   "cell_type": "code",
   "execution_count": null,
   "id": "5d02858d",
   "metadata": {},
   "outputs": [],
   "source": [
    "data_df.info()"
   ]
  },
  {
   "cell_type": "markdown",
   "id": "ef119495",
   "metadata": {},
   "source": [
    "## 2. EDA\n",
    "### 2.1. Feature distributions\n",
    "#### 2.1.1. Categorical features"
   ]
  },
  {
   "cell_type": "code",
   "execution_count": null,
   "id": "86e0ed9d",
   "metadata": {},
   "outputs": [],
   "source": [
    "categorical_features = ['external_link', 'media', 'post_day']\n",
    "\n",
    "fig, axs = plt.subplots(1, 3, figsize=(9, 3.5))\n",
    "\n",
    "fig.suptitle('Categorical Features Distribution')\n",
    "\n",
    "for i, categorical_feature in enumerate(categorical_features):\n",
    "\n",
    "    axs[i].bar(\n",
    "        data_df[categorical_feature].value_counts().index,\n",
    "        data_df[categorical_feature].value_counts().values,\n",
    "        color='black'\n",
    "    )\n",
    "\n",
    "    if categorical_feature != 'post_day':\n",
    "        axs[i].set_xticks([0, 1])\n",
    "        axs[i].set_xticklabels(['No', 'Yes'])\n",
    "\n",
    "    if categorical_feature == 'post_day':\n",
    "        axs[i].set_xticks(range(len(data_df[categorical_feature].value_counts())))\n",
    "        axs[i].set_xticklabels(data_df[categorical_feature].value_counts().index, rotation=45)\n",
    "\n",
    "    axs[i].set_title(categorical_feature)\n",
    "    axs[i].set_ylabel('Counts')\n",
    "\n",
    "fig.tight_layout()\n",
    "fig.show()"
   ]
  },
  {
   "cell_type": "markdown",
   "id": "ff6c8488",
   "metadata": {},
   "source": [
    "#### 2.1.2. Numerical features"
   ]
  },
  {
   "cell_type": "code",
   "execution_count": null,
   "id": "ec7deac0",
   "metadata": {},
   "outputs": [],
   "source": [
    "numerical_features = ['impressions', 'word_count', 'n_tags']\n",
    "\n",
    "fig, axs = plt.subplots(1, 3, figsize=(9, 3))\n",
    "\n",
    "fig.suptitle('Numerical Features Distribution')\n",
    "\n",
    "for i, numerical_feature in enumerate(numerical_features):\n",
    "    axs[i].hist(data_df[numerical_feature], bins=30, color='black')\n",
    "    axs[i].set_title(numerical_feature)\n",
    "    axs[i].set_xlabel(numerical_feature)\n",
    "    axs[i].set_ylabel('Counts')\n",
    "\n",
    "    if numerical_feature == 'impressions':\n",
    "        axs[i].set_yscale('log')\n",
    "\n",
    "fig.tight_layout()\n",
    "fig.show()"
   ]
  },
  {
   "cell_type": "markdown",
   "id": "2dfc72d1",
   "metadata": {},
   "source": [
    "### 2.2. Feature interactions\n",
    "\n",
    "#### 2.2.1. Categorical-categorical"
   ]
  },
  {
   "cell_type": "code",
   "execution_count": null,
   "id": "e273a5ba",
   "metadata": {},
   "outputs": [],
   "source": [
    "categorical_feature_pairs = [\n",
    "    ['external_link', 'media'],\n",
    "    ['external_link', 'post_day'],\n",
    "    ['media', 'post_day']\n",
    "]\n",
    "\n",
    "fig, axs = plt.subplots(1, 3, figsize=(12, 4))\n",
    "\n",
    "fig.suptitle('Categorical feature contingency tables')\n",
    "\n",
    "for i, feature_pair in enumerate(categorical_feature_pairs):\n",
    "\n",
    "    contingency_table = pd.crosstab(data_df[feature_pair[0]], data_df[feature_pair[1]])\n",
    "\n",
    "    if feature_pair[1] == 'post_day':\n",
    "        contingency_table = contingency_table[['Monday', 'Tuesday', 'Wednesday', 'Thursday', 'Friday', 'Saturday']]\n",
    "\n",
    "    chisquared_result = stats.chi2_contingency(contingency_table)\n",
    "\n",
    "    axs[i].set_title(f'{feature_pair[0]} x {feature_pair[1]}\\n$Chi^2$ p={chisquared_result[1]:.4f}')\n",
    "    sns.heatmap(contingency_table, annot=True, fmt='d', cmap='Blues', ax=axs[i])\n",
    "\n",
    "    if feature_pair[1] == 'post_day':\n",
    "        axs[i].tick_params(axis='x', labelrotation=45)\n",
    "\n",
    "fig.tight_layout()\n",
    "fig.show()"
   ]
  },
  {
   "cell_type": "markdown",
   "id": "b2d4cb47",
   "metadata": {},
   "source": [
    "#### 2.2.2. Numerical-categorical"
   ]
  },
  {
   "cell_type": "code",
   "execution_count": null,
   "id": "4a71b9dd",
   "metadata": {},
   "outputs": [],
   "source": [
    "fig, axs = plt.subplots(3, 3, figsize=(9, 8))\n",
    "\n",
    "for i, categorical_feature in enumerate(categorical_features):\n",
    "\n",
    "    fig.suptitle(f'Numerical-categorical feature interactions')\n",
    "\n",
    "    for j, numerical_feature in enumerate(numerical_features):\n",
    "\n",
    "        groups = [list(x) for _, x in data_df.dropna().groupby(data_df[categorical_feature])[numerical_feature]]\n",
    "\n",
    "        if categorical_feature == 'post_day':\n",
    "            result = stats.kruskal(*groups)\n",
    "            axs[i,j].set_title(f'{categorical_feature} x {numerical_feature}\\nH-test p={result.pvalue:.4f}')\n",
    "\n",
    "        if categorical_feature != 'post_day':\n",
    "            result = stats.mannwhitneyu(*groups)\n",
    "            axs[i,j].set_title(f'{numerical_feature} x {categorical_feature}\\nU-test p={result.pvalue:.4f}')\n",
    "\n",
    "        sns.boxplot(data=data_df, x=categorical_feature, y=numerical_feature, ax=axs[i,j])\n",
    "\n",
    "        if categorical_feature == 'post_day':\n",
    "            axs[i,j].tick_params(axis='x', labelrotation=45)\n",
    "\n",
    "    fig.tight_layout()\n",
    "    fig.show()"
   ]
  },
  {
   "cell_type": "markdown",
   "id": "4ff9fc71",
   "metadata": {},
   "source": [
    "#### 2.2.3. Numerical-numerical"
   ]
  },
  {
   "cell_type": "code",
   "execution_count": null,
   "id": "e652b8a5",
   "metadata": {},
   "outputs": [],
   "source": [
    "numerical_feature_pairs = [['word_count', 'impressions'], ['n_tags', 'impressions'], ['word_count', 'n_tags']]\n",
    "\n",
    "fig, axs = plt.subplots(1, 3, figsize=(9, 3.5))\n",
    "\n",
    "fig.suptitle('Numerical feature interactions')\n",
    "\n",
    "for i, feature_pair in enumerate(numerical_feature_pairs):\n",
    "\n",
    "    result = stats.kendalltau(data_df[feature_pair[0]], data_df[feature_pair[1]])\n",
    "    axs[i].set_title(f'{feature_pair[0]} x {feature_pair[1]}\\nτ={result.correlation:.4f}, p={result.pvalue:.4f}')\n",
    "\n",
    "    axs[i].scatter(data_df[feature_pair[0]], data_df[feature_pair[1]], color='black')\n",
    "    axs[i].set_xlabel(feature_pair[0])\n",
    "    axs[i].set_ylabel(feature_pair[1])\n",
    "\n",
    "fig.tight_layout()\n",
    "fig.show()"
   ]
  },
  {
   "cell_type": "markdown",
   "id": "09a976b3",
   "metadata": {},
   "source": [
    "## 3. Data preparation\n",
    "\n",
    "### 3.1. Feature selection"
   ]
  },
  {
   "cell_type": "code",
   "execution_count": null,
   "id": "c5fc84fc",
   "metadata": {},
   "outputs": [],
   "source": [
    "data_df = data_df[numerical_features + categorical_features]"
   ]
  },
  {
   "cell_type": "markdown",
   "id": "c5240d4d",
   "metadata": {},
   "source": [
    "### 3.2. Label clipping"
   ]
  },
  {
   "cell_type": "code",
   "execution_count": null,
   "id": "16b14628",
   "metadata": {},
   "outputs": [],
   "source": [
    "data_df['impressions'] = data_df['impressions'].clip(upper=500)\n",
    "\n",
    "plt.hist(data_df['impressions'], bins=30, color='black')\n",
    "plt.title('Impressions Distribution (Clipped)')\n",
    "plt.xlabel('Impressions')\n",
    "plt.ylabel('Counts')\n",
    "plt.yscale('log')\n",
    "plt.show()"
   ]
  },
  {
   "cell_type": "markdown",
   "id": "5a127ad1",
   "metadata": {},
   "source": [
    "### 3.2. Feature encoding"
   ]
  },
  {
   "cell_type": "code",
   "execution_count": null,
   "id": "7866c4aa",
   "metadata": {},
   "outputs": [],
   "source": [
    "encoder = OrdinalEncoder()\n",
    "data_df[categorical_features] = encoder.fit_transform(data_df[categorical_features])"
   ]
  },
  {
   "cell_type": "markdown",
   "id": "7e43186b",
   "metadata": {},
   "source": [
    "### 3.3. Feature scaling"
   ]
  },
  {
   "cell_type": "code",
   "execution_count": null,
   "id": "5c8adf4f",
   "metadata": {},
   "outputs": [],
   "source": [
    "scaler = StandardScaler()\n",
    "#data_df[numerical_features + categorical_features] = scaler.fit_transform(data_df[numerical_features + categorical_features])"
   ]
  },
  {
   "cell_type": "markdown",
   "id": "5e5d6ddb",
   "metadata": {},
   "source": [
    "## 3. Linear regression\n",
    "\n",
    "### 3.1. Model training"
   ]
  },
  {
   "cell_type": "code",
   "execution_count": null,
   "id": "35c5b221",
   "metadata": {},
   "outputs": [],
   "source": [
    "linear_model = LinearRegression()\n",
    "result = linear_model.fit(data_df.drop('impressions', axis=1), data_df['impressions'])\n",
    "rsq = linear_model.score(data_df.drop('impressions', axis=1), data_df['impressions'])\n",
    "rmse = root_mean_squared_error(data_df['impressions'], linear_model.predict(data_df.drop('impressions', axis=1)))\n",
    "\n",
    "print(f'R\\u00b2 = {rsq:.3f}')\n",
    "print(f'RMSE = {rmse:.3f}\\n')\n",
    "\n",
    "# Get importance\n",
    "importance = linear_model.coef_\n",
    "\n",
    "# Summarize feature importance\n",
    "for i, v in enumerate(importance):\n",
    "    print(f'Feature: {i}, Score: {v:.5f}')"
   ]
  },
  {
   "cell_type": "code",
   "execution_count": null,
   "id": "1dd1cdb3",
   "metadata": {},
   "outputs": [],
   "source": [
    "plt.title()"
   ]
  },
  {
   "cell_type": "code",
   "execution_count": null,
   "id": "c4a85f2d",
   "metadata": {},
   "outputs": [],
   "source": [
    "import statsmodels.api as sm\n",
    "\n",
    "features = data_df.drop('impressions', axis=1)\n",
    "labels = data_df['impressions']\n",
    "\n",
    "features = sm.add_constant(features, prepend=False)\n",
    "\n",
    "# Fit and summarize OLS model\n",
    "mod = sm.OLS(labels, features)\n",
    "res = mod.fit()\n",
    "print(res.summary())"
   ]
  },
  {
   "cell_type": "code",
   "execution_count": null,
   "id": "0276cf85",
   "metadata": {},
   "outputs": [],
   "source": []
  }
 ],
 "metadata": {
  "kernelspec": {
   "display_name": "Python 3",
   "language": "python",
   "name": "python3"
  },
  "language_info": {
   "codemirror_mode": {
    "name": "ipython",
    "version": 3
   },
   "file_extension": ".py",
   "mimetype": "text/x-python",
   "name": "python",
   "nbconvert_exporter": "python",
   "pygments_lexer": "ipython3",
   "version": "3.11.4"
  }
 },
 "nbformat": 4,
 "nbformat_minor": 5
}
